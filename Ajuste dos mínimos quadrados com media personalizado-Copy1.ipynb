{
 "cells": [
  {
   "cell_type": "code",
   "execution_count": 32,
   "metadata": {
    "scrolled": false
   },
   "outputs": [
    {
     "name": "stderr",
     "output_type": "stream",
     "text": [
      "C:\\Users\\User2\\Anaconda3\\lib\\site-packages\\ipykernel_launcher.py:38: DeprecationWarning: object of type <class 'float'> cannot be safely interpreted as an integer.\n"
     ]
    },
    {
     "name": "stdout",
     "output_type": "stream",
     "text": [
      "[0.         0.11111111 0.22222222 0.33333333 0.44444444 0.55555556\n",
      " 0.66666667 0.77777778 0.88888889 1.        ]\n",
      "[1.         1.11111111 1.22222222 1.33333333 1.44444444 1.55555556\n",
      " 1.66666667 1.77777778 1.88888889 2.        ]\n",
      "[2.         2.11111111 2.22222222 2.33333333 2.44444444 2.55555556\n",
      " 2.66666667 2.77777778 2.88888889 3.        ]\n",
      "[3.         3.11111111 3.22222222 3.33333333 3.44444444 3.55555556\n",
      " 3.66666667 3.77777778 3.88888889 4.        ]\n",
      "[4.         4.11111111 4.22222222 4.33333333 4.44444444 4.55555556\n",
      " 4.66666667 4.77777778 4.88888889 5.        ]\n",
      "[5.         5.11111111 5.22222222 5.33333333 5.44444444 5.55555556\n",
      " 5.66666667 5.77777778 5.88888889 6.        ]\n",
      "[6.         6.11111111 6.22222222 6.33333333 6.44444444 6.55555556\n",
      " 6.66666667 6.77777778 6.88888889 7.        ]\n",
      "[7.         7.11111111 7.22222222 7.33333333 7.44444444 7.55555556\n",
      " 7.66666667 7.77777778 7.88888889 8.        ]\n",
      "[8.         8.11111111 8.22222222 8.33333333 8.44444444 8.55555556\n",
      " 8.66666667 8.77777778 8.88888889 9.        ]\n",
      "[ 9.          9.11111111  9.22222222  9.33333333  9.44444444  9.55555556\n",
      "  9.66666667  9.77777778  9.88888889 10.        ]\n"
     ]
    },
    {
     "data": {
      "text/plain": [
       "[<matplotlib.lines.Line2D at 0xfbe3291f28>]"
      ]
     },
     "execution_count": 32,
     "metadata": {},
     "output_type": "execute_result"
    },
    {
     "data": {
      "image/png": "[encoded data removed]",
      "text/plain": [
       "<Figure size 432x288 with 1 Axes>"
      ]
     },
     "metadata": {
      "needs_background": "light"
     },
     "output_type": "display_data"
    }
   ],
   "source": [
    "import matplotlib.pyplot as plt\n",
    "import numpy as np\n",
    "import matplotlib.cbook as cbook\n",
    "import numpy as geek \n",
    "\n",
    "# sphinx_gallery_thumbnail_number = 2\n",
    "\n",
    "N = 21\n",
    "x = np.linspace(0, 10, 11)\n",
    "y = [3.9, 4.4, 10.8, 10.3, 11.2, 13.1, 14.1,  9.9, 13.9, 15.1, 12.5]\n",
    "\n",
    "# fit a linear curve an estimate its y-values and their error.\n",
    "n=3\n",
    "c = np.polyfit(x, y, n)\n",
    "p = np.poly1d(c)\n",
    "xp = np.linspace(x[0], x[x.size-1], 100)\n",
    "\n",
    "d=np.absolute(y-p(x))\n",
    "tamanho=d.size\n",
    "l=[]\n",
    "t=0\n",
    "\n",
    "while t!=tamanho:\n",
    "    #print(l)\n",
    "    l.append(np.mean(d))\n",
    "    #print(t)\n",
    "    d=np.delete(d,d.size-1)\n",
    "    t=t+1\n",
    "    \n",
    "u=0\n",
    "f1=np.array([])\n",
    "f2=np.array([])\n",
    "\n",
    "l.reverse()\n",
    "l=np.array(l)\n",
    "\n",
    "while u<x.size-1:\n",
    "    x1=np.linspace(x[u],x[u+1],(xp.size/(x.size-1)))\n",
    "    print(x1)\n",
    "    f1=np.concatenate((f1,p(x1)+l[u]), axis=0)\n",
    "    f2=np.concatenate((f2,p(x1)-l[u]), axis=0)\n",
    "    u=u+1\n",
    "\n",
    "fig, ax = plt.subplots()\n",
    "ax.plot(xp, p(xp), '-')\n",
    "ax.fill_between(xp,f1, f2, alpha=0.2,color='gold')\n",
    "ax.plot(x, y, 'o', color='tab:brown')"
   ]
  },
  {
   "cell_type": "code",
   "execution_count": null,
   "metadata": {},
   "outputs": [],
   "source": []
  },
  {
   "cell_type": "code",
   "execution_count": null,
   "metadata": {},
   "outputs": [],
   "source": []
  },
  {
   "cell_type": "code",
   "execution_count": null,
   "metadata": {},
   "outputs": [],
   "source": []
  },
  {
   "cell_type": "code",
   "execution_count": null,
   "metadata": {},
   "outputs": [],
   "source": []
  },
  {
   "cell_type": "code",
   "execution_count": null,
   "metadata": {},
   "outputs": [],
   "source": []
  },
  {
   "cell_type": "code",
   "execution_count": null,
   "metadata": {},
   "outputs": [],
   "source": []
  },
  {
   "cell_type": "code",
   "execution_count": null,
   "metadata": {},
   "outputs": [],
   "source": []
  },
  {
   "cell_type": "code",
   "execution_count": null,
   "metadata": {},
   "outputs": [],
   "source": []
  }
 ],
 "metadata": {
  "kernelspec": {
   "display_name": "Python 3",
   "language": "python",
   "name": "python3"
  },
  "language_info": {
   "codemirror_mode": {
    "name": "ipython",
    "version": 3
   },
   "file_extension": ".py",
   "mimetype": "text/x-python",
   "name": "python",
   "nbconvert_exporter": "python",
   "pygments_lexer": "ipython3",
   "version": "3.7.0"
  }
 },
 "nbformat": 4,
 "nbformat_minor": 2
}
