{
 "cells": [
  {
   "cell_type": "markdown",
   "metadata": {},
   "source": [
    "# Estatisticas times de Cs go"
   ]
  },
  {
   "cell_type": "code",
   "execution_count": null,
   "metadata": {},
   "outputs": [],
   "source": [
    "import pandas as pd\n",
    "\n",
    "TIME1=pd.DataFrame({\"Mapas\":[\"Dust2\",\"Vertigo\",\"Train\",\"Inferno\",\"Mirage\",\"Nuke\"],\"Vitorias\":[50,44.4,33.3,33.3,28.6,22.2]})\n",
    "\n",
    "TIME2=pd.DataFrame({\"Mapas\":[\"Dust2\",\"Vertigo\",\"Train\",\"Inferno\",\"Mirage\",\"Nuke\"],\"Vitorias\":[53.1,72.5,47.7,48.5,45.9,53.5]})\n",
    "\n",
    "\n",
    "    \n",
    "Vitorias_time1=pd.DataFrame({\"Mapas\":[\"Dust2\",\"Vertigo\",\"Train\",\"Inferno\",\"Mirage\",\"Nuke\"],\"Vitorias\":((TIME1[\"Vitorias\"] + (100-TIME2[\"Vitorias\"]))/2)})\n",
    "Vitorias_time1\n",
    "\n",
    "\n"
   ]
  },
  {
   "cell_type": "markdown",
   "metadata": {},
   "source": [
    "# Para MD3"
   ]
  },
  {
   "cell_type": "code",
   "execution_count": null,
   "metadata": {},
   "outputs": [],
   "source": [
    "Mapa1=input(\"Digite o primeiro mapa\")\n",
    "Mapa2=input(\"Digite o primeiro mapa\")\n",
    "Mapa3=input(\"Digite o primeiro mapa\")\n",
    "\n",
    "Vitorias_time1[Mapa1]"
   ]
  },
  {
   "cell_type": "code",
   "execution_count": null,
   "metadata": {},
   "outputs": [],
   "source": []
  },
  {
   "cell_type": "code",
   "execution_count": null,
   "metadata": {},
   "outputs": [],
   "source": []
  }
 ],
 "metadata": {
  "kernelspec": {
   "display_name": "Python 3",
   "language": "python",
   "name": "python3"
  },
  "language_info": {
   "codemirror_mode": {
    "name": "ipython",
    "version": 3
   },
   "file_extension": ".py",
   "mimetype": "text/x-python",
   "name": "python",
   "nbconvert_exporter": "python",
   "pygments_lexer": "ipython3",
   "version": "3.7.0"
  }
 },
 "nbformat": 4,
 "nbformat_minor": 2
}
