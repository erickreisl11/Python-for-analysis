{
 "cells": [
  {
   "cell_type": "markdown",
   "metadata": {},
   "source": [
    "# Mortes por classe"
   ]
  },
  {
   "cell_type": "code",
   "execution_count": 3,
   "metadata": {},
   "outputs": [
    {
     "data": {
      "text/plain": [
       "Text(0.5,1,'Grafico da mortalidade por classe')"
      ]
     },
     "execution_count": 3,
     "metadata": {},
     "output_type": "execute_result"
    },
    {
     "data": {
      "image/png": "[encoded data removed]",
      "text/plain": [
       "<Figure size 432x288 with 1 Axes>"
      ]
     },
     "metadata": {
      "needs_background": "light"
     },
     "output_type": "display_data"
    }
   ],
   "source": [
    "import pandas as pd\n",
    "import matplotlib.pyplot as plt \n",
    "import numpy as np\n",
    "\n",
    "pd.set_option('display.max_columns', None)  \n",
    "pd.set_option('display.expand_frame_repr', False)\n",
    "pd.set_option('max_colwidth', -1)\n",
    "\n",
    "df=pd.read_excel(\"C:/Users/User2/Desktop/Programação/Data Science/Banco de dados/Titanic/titanic/train.xlsx\")\n",
    "\n",
    "\n",
    "\n",
    " #Mortes na classe alta\n",
    "Calta=(df.loc[(df[\"Pclass\"]==1)])\n",
    "Nalta=Calta[\"Pclass\"].count()\n",
    "\n",
    "xalta=(df.loc[(df[\"Survived\"]==0) & (df[\"Pclass\"]==1)])\n",
    "Malta= xalta[\"Pclass\"].count()\n",
    "\n",
    "Mortalidade_alta=Malta/Nalta\n",
    "\n",
    "#Mortes na classe media\n",
    "Cmedia=(df.loc[(df[\"Pclass\"]==2)])\n",
    "Nmedia=Cmedia[\"Pclass\"].count()\n",
    "\n",
    "xmedia=(df.loc[(df[\"Survived\"]==0) & (df[\"Pclass\"]==2)])\n",
    "Mmedia= xmedia[\"Pclass\"].count()\n",
    "\n",
    "Mortalidade_media=Mmedia/Nmedia\n",
    "\n",
    "#Mortes na classe baixa\n",
    "\n",
    "Cbaixa=(df.loc[(df[\"Pclass\"]==3)])\n",
    "Nbaixa=Cbaixa[\"Pclass\"].count()\n",
    "\n",
    "xbaixa=(df.loc[(df[\"Survived\"]==0) & (df[\"Pclass\"]==3)])\n",
    "Mbaixa= xbaixa[\"Pclass\"].count()\n",
    "\n",
    "Mortalidade_baixa=Mbaixa/Nbaixa\n",
    "\n",
    "#graficos \n",
    "fig = plt.figure()\n",
    "ax1 = fig.add_subplot(111)\n",
    "\n",
    "xgrafico1=[\"1\",\"2\",\"3\"]\n",
    "ygrafico1=[Mortalidade_alta,Mortalidade_media,Mortalidade_baixa]\n",
    "plt.bar(xgrafico1,ygrafico1, color=\"red\")\n",
    "\n",
    "ax1.set_ylabel('Mortalidade')\n",
    "ax1.set_xlabel('Classes')\n",
    "ax1.set_title('Grafico da mortalidade por classe')\n",
    "\n"
   ]
  },
  {
   "cell_type": "markdown",
   "metadata": {},
   "source": [
    "# Mortes por genero"
   ]
  },
  {
   "cell_type": "code",
   "execution_count": 4,
   "metadata": {},
   "outputs": [
    {
     "data": {
      "text/plain": [
       "Text(0.5,1,'Grafico da mortalidade por genero')"
      ]
     },
     "execution_count": 4,
     "metadata": {},
     "output_type": "execute_result"
    },
    {
     "data": {
      "image/png": "[encoded data removed]",
      "text/plain": [
       "<Figure size 432x288 with 1 Axes>"
      ]
     },
     "metadata": {
      "needs_background": "light"
     },
     "output_type": "display_data"
    }
   ],
   "source": [
    "\n",
    "# Mortalidade em homens\n",
    "\n",
    "Smale=(df.loc[(df[\"Sex\"]==\"male\")])\n",
    "Nmale=Smale[\"Sex\"].count()\n",
    "\n",
    "xmale=(df.loc[(df[\"Survived\"]==0) & (df[\"Sex\"]==\"male\")])\n",
    "Mmale= xmale[\"Sex\"].count()\n",
    "\n",
    "Mortalidade_homens=Mmale/Nmale\n",
    "\n",
    "# Mortalidade em mulheres\n",
    "\n",
    "Sfemale=(df.loc[(df[\"Sex\"]==\"female\")])\n",
    "Nfemale=Sfemale[\"Sex\"].count()\n",
    "\n",
    "xfemale=(df.loc[(df[\"Survived\"]==0) & (df[\"Sex\"]==\"female\")])\n",
    "Mfemale= xfemale[\"Sex\"].count()\n",
    "\n",
    "Mortalidade_mulheres=Mfemale/Nfemale\n",
    "\n",
    "\n",
    "#Grafico\n",
    "\n",
    "fig = plt.figure()\n",
    "ax1 = fig.add_subplot(111)\n",
    "\n",
    "xgrafico1=[\"Male\",\"Female\"]\n",
    "ygrafico1=[Mortalidade_homens,Mortalidade_mulheres]\n",
    "plt.bar(xgrafico1,ygrafico1, color=\"red\")\n",
    "\n",
    "ax1.set_ylabel('Mortalidade')\n",
    "ax1.set_xlabel('Genero')\n",
    "ax1.set_title('Grafico da mortalidade por genero')\n"
   ]
  },
  {
   "cell_type": "markdown",
   "metadata": {},
   "source": [
    "# Mortalidade por idade"
   ]
  },
  {
   "cell_type": "code",
   "execution_count": 5,
   "metadata": {},
   "outputs": [
    {
     "data": {
      "text/plain": [
       "Text(0.5,1,'Grafico da mortalidade por idade')"
      ]
     },
     "execution_count": 5,
     "metadata": {},
     "output_type": "execute_result"
    },
    {
     "data": {
      "image/png": "[encoded data removed]",
      "text/plain": [
       "<Figure size 432x288 with 1 Axes>"
      ]
     },
     "metadata": {
      "needs_background": "light"
     },
     "output_type": "display_data"
    }
   ],
   "source": [
    "# Mortalidade em 0-15 anos\n",
    "\n",
    "Squinze=(df.loc[(df[\"Age\"]<=15)])\n",
    "Nquinze=Squinze[\"Age\"].count()\n",
    "\n",
    "xquinze=(df.loc[(df[\"Survived\"]==0) & (df[\"Age\"]<=15)])\n",
    "Mquinze= xquinze[\"Age\"].count()\n",
    "\n",
    "Mortalidade_quinze=Mquinze/Nquinze\n",
    "\n",
    "\n",
    "# Mortalidade em 16-30 anos\n",
    "\n",
    "Strinta=(df.loc[(df[\"Age\"]<=30) &  (16<=df[\"Age\"])] )\n",
    "Ntrinta=Strinta[\"Age\"].count()\n",
    "\n",
    "xtrinta=(df.loc[(df[\"Survived\"]==0) & (df[\"Age\"]<=30)  & (16<=df[\"Age\"] )])\n",
    "Mtrinta= xtrinta[\"Age\"].count()\n",
    "\n",
    "Mortalidade_trinta=Mtrinta/Ntrinta\n",
    "\n",
    "# Mortalidade em 31-45 anos\n",
    "\n",
    "Sqcinco=(df.loc[(df[\"Age\"]<=45) &  (31<=df[\"Age\"])] )\n",
    "Nqcinco=Sqcinco[\"Age\"].count()\n",
    "\n",
    "xqcinco=(df.loc[(df[\"Survived\"]==0) & (df[\"Age\"]<=45)  & (31<=df[\"Age\"] )])\n",
    "Mqcinco= xqcinco[\"Age\"].count()\n",
    "\n",
    "Mortalidade_qcinco=Mqcinco/Nqcinco\n",
    "\n",
    "\n",
    "# Mortalidade em 45-60 anos\n",
    "\n",
    "Ssessenta=(df.loc[(df[\"Age\"]<=60) &  (45<=df[\"Age\"])] )\n",
    "Nsessenta=Ssessenta[\"Age\"].count()\n",
    "\n",
    "xsessenta=(df.loc[(df[\"Survived\"]==0) & (df[\"Age\"]<=60)  & (45<=df[\"Age\"] )])\n",
    "Msessenta= xsessenta[\"Age\"].count()\n",
    "\n",
    "Mortalidade_sessenta=Msessenta/Nsessenta\n",
    "\n",
    "# Mortalidade em 60- anos\n",
    "\n",
    "Svelho=(df.loc[60<=(df[\"Age\"])])\n",
    "Nvelho=Svelho[\"Age\"].count()\n",
    "\n",
    "xvelho=(df.loc[(df[\"Survived\"]==0) & (60<=df[\"Age\"])])\n",
    "Mvelho= xvelho[\"Age\"].count()\n",
    "\n",
    "Mortalidade_velho=Mvelho/Nvelho\n",
    "\n",
    "\n",
    "#Graficos\n",
    "\n",
    "fig = plt.figure()\n",
    "ax1 = fig.add_subplot(111)\n",
    "\n",
    "xgrafico1=[\"0-15\",\"16-30\",\"31-45\",\"46-60\",\"60-\"]\n",
    "ygrafico1=[Mortalidade_quinze,Mortalidade_trinta,Mortalidade_qcinco,Mortalidade_sessenta,Mortalidade_velho]\n",
    "plt.bar(xgrafico1,ygrafico1, color=\"red\")\n",
    "\n",
    "ax1.set_ylabel('Mortalidade')\n",
    "ax1.set_xlabel('Idade')\n",
    "ax1.set_title('Grafico da mortalidade por idade')\n",
    "\n",
    "\n",
    "\n"
   ]
  },
  {
   "cell_type": "markdown",
   "metadata": {},
   "source": [
    "# Analise da probabilidade"
   ]
  },
  {
   "cell_type": "code",
   "execution_count": null,
   "metadata": {},
   "outputs": [],
   "source": []
  },
  {
   "cell_type": "code",
   "execution_count": 6,
   "metadata": {},
   "outputs": [
    {
     "data": {
      "text/plain": [
       "0.37037037037037035"
      ]
     },
     "execution_count": 6,
     "metadata": {},
     "output_type": "execute_result"
    }
   ],
   "source": [
    "Mortalidade_alta"
   ]
  },
  {
   "cell_type": "code",
   "execution_count": null,
   "metadata": {},
   "outputs": [],
   "source": []
  }
 ],
 "metadata": {
  "kernelspec": {
   "display_name": "Python 3",
   "language": "python",
   "name": "python3"
  },
  "language_info": {
   "codemirror_mode": {
    "name": "ipython",
    "version": 3
   },
   "file_extension": ".py",
   "mimetype": "text/x-python",
   "name": "python",
   "nbconvert_exporter": "python",
   "pygments_lexer": "ipython3",
   "version": "3.7.0"
  }
 },
 "nbformat": 4,
 "nbformat_minor": 2
}
