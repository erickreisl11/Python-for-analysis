{
 "cells": [
  {
   "cell_type": "markdown",
   "metadata": {},
   "source": [
    "# Estatisticas times de Cs go"
   ]
  },
  {
   "cell_type": "code",
   "execution_count": 23,
   "metadata": {},
   "outputs": [
    {
     "data": {
      "text/html": [
       "<div>\n",
       "<style scoped>\n",
       "    .dataframe tbody tr th:only-of-type {\n",
       "        vertical-align: middle;\n",
       "    }\n",
       "\n",
       "    .dataframe tbody tr th {\n",
       "        vertical-align: top;\n",
       "    }\n",
       "\n",
       "    .dataframe thead th {\n",
       "        text-align: right;\n",
       "    }\n",
       "</style>\n",
       "<table border=\"1\" class=\"dataframe\">\n",
       "  <thead>\n",
       "    <tr style=\"text-align: right;\">\n",
       "      <th></th>\n",
       "      <th>Mapas</th>\n",
       "      <th>Vitorias</th>\n",
       "    </tr>\n",
       "  </thead>\n",
       "  <tbody>\n",
       "    <tr>\n",
       "      <th>0</th>\n",
       "      <td>Dust2</td>\n",
       "      <td>48.45</td>\n",
       "    </tr>\n",
       "    <tr>\n",
       "      <th>1</th>\n",
       "      <td>Vertigo</td>\n",
       "      <td>35.95</td>\n",
       "    </tr>\n",
       "    <tr>\n",
       "      <th>2</th>\n",
       "      <td>Train</td>\n",
       "      <td>42.80</td>\n",
       "    </tr>\n",
       "    <tr>\n",
       "      <th>3</th>\n",
       "      <td>Inferno</td>\n",
       "      <td>42.40</td>\n",
       "    </tr>\n",
       "    <tr>\n",
       "      <th>4</th>\n",
       "      <td>Mirage</td>\n",
       "      <td>41.35</td>\n",
       "    </tr>\n",
       "    <tr>\n",
       "      <th>5</th>\n",
       "      <td>Nuke</td>\n",
       "      <td>34.35</td>\n",
       "    </tr>\n",
       "  </tbody>\n",
       "</table>\n",
       "</div>"
      ],
      "text/plain": [
       "     Mapas  Vitorias\n",
       "0    Dust2     48.45\n",
       "1  Vertigo     35.95\n",
       "2    Train     42.80\n",
       "3  Inferno     42.40\n",
       "4   Mirage     41.35\n",
       "5     Nuke     34.35"
      ]
     },
     "execution_count": 23,
     "metadata": {},
     "output_type": "execute_result"
    }
   ],
   "source": [
    "import pandas as pd\n",
    "\n",
    "Time1=\"MIBR\"\n",
    "Time2=\"Liquid\"\n",
    "\n",
    "TIME1=pd.DataFrame({\"Mapas\":[\"Dust2\",\"Vertigo\",\"Train\",\"Inferno\",\"Mirage\",\"Nuke\"],\"Vitorias\":[50,44.4,33.3,33.3,28.6,22.2]})\n",
    "\n",
    "TIME2=pd.DataFrame({\"Mapas\":[\"Dust2\",\"Vertigo\",\"Train\",\"Inferno\",\"Mirage\",\"Nuke\"],\"Vitorias\":[53.1,72.5,47.7,48.5,45.9,53.5]})\n",
    "\n",
    "\n",
    "    \n",
    "Vitorias_time1=pd.DataFrame({\"Mapas\":[\"Dust2\",\"Vertigo\",\"Train\",\"Inferno\",\"Mirage\",\"Nuke\"],\"Vitorias\":((TIME1[\"Vitorias\"] + (100-TIME2[\"Vitorias\"]))/2)})\n",
    "Vitorias_time1\n",
    "\n",
    "\n",
    "\n"
   ]
  },
  {
   "cell_type": "markdown",
   "metadata": {},
   "source": [
    "# Para MD3"
   ]
  },
  {
   "cell_type": "code",
   "execution_count": 24,
   "metadata": {},
   "outputs": [
    {
     "name": "stdout",
     "output_type": "stream",
     "text": [
      "Digite o primeiro mapa: Nuke\n",
      "Digite o primeiro mapa: Dust2\n",
      "Digite o primeiro mapa: Mirage\n"
     ]
    }
   ],
   "source": [
    "Mapa1=input(\"Digite o primeiro mapa: \")\n",
    "Mapa2=input(\"Digite o primeiro mapa: \")\n",
    "Mapa3=input(\"Digite o primeiro mapa: \")\n",
    "\n"
   ]
  },
  {
   "cell_type": "code",
   "execution_count": 34,
   "metadata": {},
   "outputs": [
    {
     "name": "stdout",
     "output_type": "stream",
     "text": [
      "A probabilidade de MIBR vencer é   37.11696547500001\n",
      "A probabilidade de Liquid vencer é   62.88303452499999\n"
     ]
    }
   ],
   "source": [
    "V1=Vitorias_time1.loc[(Vitorias_time1[\"Mapas\"]==Mapa1)].iloc[0,1]/100\n",
    "V2=Vitorias_time1.loc[(Vitorias_time1[\"Mapas\"]==Mapa2)].iloc[0,1]/100\n",
    "V3=Vitorias_time1.loc[(Vitorias_time1[\"Mapas\"]==Mapa3)].iloc[0,1]/100\n",
    "\n",
    "P_V_Time1=((V1*V2) + (V1*V3*(1-V2))+(V2*V3*(1-V1)))*100\n",
    "\n",
    "print(\"A probabilidade de \"+ Time1 + \" vencer é  \" ,P_V_Time1  )\n",
    "print(\"A probabilidade de \"+ Time2 + \" vencer é  \" ,100-P_V_Time1 )"
   ]
  },
  {
   "cell_type": "code",
   "execution_count": 22,
   "metadata": {},
   "outputs": [
    {
     "data": {
      "text/plain": [
       "'MIBR'"
      ]
     },
     "execution_count": 22,
     "metadata": {},
     "output_type": "execute_result"
    }
   ],
   "source": [
    "Time1"
   ]
  },
  {
   "cell_type": "code",
   "execution_count": null,
   "metadata": {},
   "outputs": [],
   "source": []
  },
  {
   "cell_type": "code",
   "execution_count": null,
   "metadata": {},
   "outputs": [],
   "source": []
  }
 ],
 "metadata": {
  "kernelspec": {
   "display_name": "Python 3",
   "language": "python",
   "name": "python3"
  },
  "language_info": {
   "codemirror_mode": {
    "name": "ipython",
    "version": 3
   },
   "file_extension": ".py",
   "mimetype": "text/x-python",
   "name": "python",
   "nbconvert_exporter": "python",
   "pygments_lexer": "ipython3",
   "version": "3.7.0"
  }
 },
 "nbformat": 4,
 "nbformat_minor": 2
}
